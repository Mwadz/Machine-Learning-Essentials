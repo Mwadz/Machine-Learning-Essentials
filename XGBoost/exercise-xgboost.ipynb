{
 "cells": [
  {
   "cell_type": "markdown",
   "id": "d3a9c982",
   "metadata": {
    "papermill": {
     "duration": 0.009282,
     "end_time": "2023-09-04T09:21:22.164369",
     "exception": false,
     "start_time": "2023-09-04T09:21:22.155087",
     "status": "completed"
    },
    "tags": []
   },
   "source": [
    "**This notebook is an exercise in the [Intermediate Machine Learning](https://www.kaggle.com/learn/intermediate-machine-learning) course.  You can reference the tutorial at [this link](https://www.kaggle.com/alexisbcook/xgboost).**\n",
    "\n",
    "---\n"
   ]
  },
  {
   "cell_type": "markdown",
   "id": "8a2a6a14",
   "metadata": {
    "papermill": {
     "duration": 0.008261,
     "end_time": "2023-09-04T09:21:22.181285",
     "exception": false,
     "start_time": "2023-09-04T09:21:22.173024",
     "status": "completed"
    },
    "tags": []
   },
   "source": [
    "In this exercise, you will use your new knowledge to train a model with **gradient boosting**.\n",
    "\n",
    "# Setup\n",
    "\n",
    "The questions below will give you feedback on your work. Run the following cell to set up the feedback system."
   ]
  },
  {
   "cell_type": "code",
   "execution_count": 1,
   "id": "9c319154",
   "metadata": {
    "execution": {
     "iopub.execute_input": "2023-09-04T09:21:22.200440Z",
     "iopub.status.busy": "2023-09-04T09:21:22.200064Z",
     "iopub.status.idle": "2023-09-04T09:21:25.282991Z",
     "shell.execute_reply": "2023-09-04T09:21:25.281974Z"
    },
    "papermill": {
     "duration": 3.096065,
     "end_time": "2023-09-04T09:21:25.285863",
     "exception": false,
     "start_time": "2023-09-04T09:21:22.189798",
     "status": "completed"
    },
    "tags": []
   },
   "outputs": [
    {
     "name": "stdout",
     "output_type": "stream",
     "text": [
      "Setup Complete\n"
     ]
    }
   ],
   "source": [
    "# Set up code checking\n",
    "import os\n",
    "if not os.path.exists(\"../input/train.csv\"):\n",
    "    os.symlink(\"../input/home-data-for-ml-course/train.csv\", \"../input/train.csv\")  \n",
    "    os.symlink(\"../input/home-data-for-ml-course/test.csv\", \"../input/test.csv\") \n",
    "from learntools.core import binder\n",
    "binder.bind(globals())\n",
    "from learntools.ml_intermediate.ex6 import *\n",
    "print(\"Setup Complete\")"
   ]
  },
  {
   "cell_type": "markdown",
   "id": "575d131e",
   "metadata": {
    "papermill": {
     "duration": 0.00867,
     "end_time": "2023-09-04T09:21:25.303861",
     "exception": false,
     "start_time": "2023-09-04T09:21:25.295191",
     "status": "completed"
    },
    "tags": []
   },
   "source": [
    "You will work with the [Housing Prices Competition for Kaggle Learn Users](https://www.kaggle.com/c/home-data-for-ml-course) dataset from the previous exercise. \n",
    "\n",
    "![Ames Housing dataset image](https://storage.googleapis.com/kaggle-media/learn/images/lTJVG4e.png)\n",
    "\n",
    "Run the next code cell without changes to load the training and validation sets in `X_train`, `X_valid`, `y_train`, and `y_valid`.  The test set is loaded in `X_test`."
   ]
  },
  {
   "cell_type": "code",
   "execution_count": 2,
   "id": "b18d67ab",
   "metadata": {
    "execution": {
     "iopub.execute_input": "2023-09-04T09:21:25.323999Z",
     "iopub.status.busy": "2023-09-04T09:21:25.323586Z",
     "iopub.status.idle": "2023-09-04T09:21:25.527776Z",
     "shell.execute_reply": "2023-09-04T09:21:25.526588Z"
    },
    "papermill": {
     "duration": 0.217879,
     "end_time": "2023-09-04T09:21:25.530550",
     "exception": false,
     "start_time": "2023-09-04T09:21:25.312671",
     "status": "completed"
    },
    "tags": []
   },
   "outputs": [],
   "source": [
    "import pandas as pd\n",
    "from sklearn.model_selection import train_test_split\n",
    "\n",
    "# Read the data\n",
    "X = pd.read_csv('../input/train.csv', index_col='Id')\n",
    "X_test_full = pd.read_csv('../input/test.csv', index_col='Id')\n",
    "\n",
    "# Remove rows with missing target, separate target from predictors\n",
    "X.dropna(axis=0, subset=['SalePrice'], inplace=True)\n",
    "y = X.SalePrice              \n",
    "X.drop(['SalePrice'], axis=1, inplace=True)\n",
    "\n",
    "# Break off validation set from training data\n",
    "X_train_full, X_valid_full, y_train, y_valid = train_test_split(X, y, train_size=0.8, test_size=0.2,\n",
    "                                                                random_state=0)\n",
    "\n",
    "# \"Cardinality\" means the number of unique values in a column\n",
    "# Select categorical columns with relatively low cardinality (convenient but arbitrary)\n",
    "low_cardinality_cols = [cname for cname in X_train_full.columns if X_train_full[cname].nunique() < 10 and \n",
    "                        X_train_full[cname].dtype == \"object\"]\n",
    "\n",
    "# Select numeric columns\n",
    "numeric_cols = [cname for cname in X_train_full.columns if X_train_full[cname].dtype in ['int64', 'float64']]\n",
    "\n",
    "# Keep selected columns only\n",
    "my_cols = low_cardinality_cols + numeric_cols\n",
    "X_train = X_train_full[my_cols].copy()\n",
    "X_valid = X_valid_full[my_cols].copy()\n",
    "X_test = X_test_full[my_cols].copy()\n",
    "\n",
    "# One-hot encode the data (to shorten the code, we use pandas)\n",
    "X_train = pd.get_dummies(X_train)\n",
    "X_valid = pd.get_dummies(X_valid)\n",
    "X_test = pd.get_dummies(X_test)\n",
    "X_train, X_valid = X_train.align(X_valid, join='left', axis=1)\n",
    "X_train, X_test = X_train.align(X_test, join='left', axis=1)"
   ]
  },
  {
   "cell_type": "markdown",
   "id": "a2c70c7e",
   "metadata": {
    "papermill": {
     "duration": 0.008443,
     "end_time": "2023-09-04T09:21:25.547988",
     "exception": false,
     "start_time": "2023-09-04T09:21:25.539545",
     "status": "completed"
    },
    "tags": []
   },
   "source": [
    "# Step 1: Build model\n",
    "\n",
    "### Part A\n",
    "\n",
    "In this step, you'll build and train your first model with gradient boosting.\n",
    "\n",
    "- Begin by setting `my_model_1` to an XGBoost model.  Use the [XGBRegressor](https://xgboost.readthedocs.io/en/latest/python/python_api.html#xgboost.XGBRegressor) class, and set the random seed to 0 (`random_state=0`).  **Leave all other parameters as default.**\n",
    "- Then, fit the model to the training data in `X_train` and `y_train`."
   ]
  },
  {
   "cell_type": "code",
   "execution_count": 3,
   "id": "fdc445e8",
   "metadata": {
    "execution": {
     "iopub.execute_input": "2023-09-04T09:21:25.568206Z",
     "iopub.status.busy": "2023-09-04T09:21:25.567815Z",
     "iopub.status.idle": "2023-09-04T09:21:26.426987Z",
     "shell.execute_reply": "2023-09-04T09:21:26.426050Z"
    },
    "papermill": {
     "duration": 0.87279,
     "end_time": "2023-09-04T09:21:26.429595",
     "exception": false,
     "start_time": "2023-09-04T09:21:25.556805",
     "status": "completed"
    },
    "tags": []
   },
   "outputs": [
    {
     "data": {
      "application/javascript": [
       "parent.postMessage({\"jupyterEvent\": \"custom.exercise_interaction\", \"data\": {\"outcomeType\": 1, \"valueTowardsCompletion\": 0.5, \"interactionType\": 1, \"questionType\": 2, \"questionId\": \"1.1_Model1A\", \"learnToolsVersion\": \"0.3.4\", \"failureMessage\": \"\", \"exceptionClass\": \"\", \"trace\": \"\"}}, \"*\")"
      ],
      "text/plain": [
       "<IPython.core.display.Javascript object>"
      ]
     },
     "metadata": {},
     "output_type": "display_data"
    },
    {
     "data": {
      "text/markdown": [
       "<span style=\"color:#33cc33\">Correct</span>"
      ],
      "text/plain": [
       "Correct"
      ]
     },
     "metadata": {},
     "output_type": "display_data"
    }
   ],
   "source": [
    "from xgboost import XGBRegressor\n",
    "\n",
    "# Define the model\n",
    "my_model_1 = XGBRegressor(random_state=0)\n",
    "\n",
    "# Fit the model\n",
    "my_model_1.fit(X_train, y_train)\n",
    "\n",
    "# Check your answer\n",
    "step_1.a.check()"
   ]
  },
  {
   "cell_type": "code",
   "execution_count": 4,
   "id": "169b0cf5",
   "metadata": {
    "execution": {
     "iopub.execute_input": "2023-09-04T09:21:26.450580Z",
     "iopub.status.busy": "2023-09-04T09:21:26.450153Z",
     "iopub.status.idle": "2023-09-04T09:21:26.454375Z",
     "shell.execute_reply": "2023-09-04T09:21:26.453520Z"
    },
    "papermill": {
     "duration": 0.016787,
     "end_time": "2023-09-04T09:21:26.456471",
     "exception": false,
     "start_time": "2023-09-04T09:21:26.439684",
     "status": "completed"
    },
    "tags": []
   },
   "outputs": [],
   "source": [
    "# Lines below will give you a hint or solution code\n",
    "#step_1.a.hint()\n",
    "# step_1.a.solution()"
   ]
  },
  {
   "cell_type": "markdown",
   "id": "581e57ba",
   "metadata": {
    "papermill": {
     "duration": 0.008798,
     "end_time": "2023-09-04T09:21:26.474418",
     "exception": false,
     "start_time": "2023-09-04T09:21:26.465620",
     "status": "completed"
    },
    "tags": []
   },
   "source": [
    "### Part B\n",
    "\n",
    "Set `predictions_1` to the model's predictions for the validation data.  Recall that the validation features are stored in `X_valid`."
   ]
  },
  {
   "cell_type": "code",
   "execution_count": 5,
   "id": "6a0f408e",
   "metadata": {
    "execution": {
     "iopub.execute_input": "2023-09-04T09:21:26.495015Z",
     "iopub.status.busy": "2023-09-04T09:21:26.494246Z",
     "iopub.status.idle": "2023-09-04T09:21:26.528197Z",
     "shell.execute_reply": "2023-09-04T09:21:26.527249Z"
    },
    "papermill": {
     "duration": 0.047283,
     "end_time": "2023-09-04T09:21:26.530905",
     "exception": false,
     "start_time": "2023-09-04T09:21:26.483622",
     "status": "completed"
    },
    "tags": []
   },
   "outputs": [
    {
     "data": {
      "application/javascript": [
       "parent.postMessage({\"jupyterEvent\": \"custom.exercise_interaction\", \"data\": {\"outcomeType\": 1, \"valueTowardsCompletion\": 0.5, \"interactionType\": 1, \"questionType\": 2, \"questionId\": \"1.2_Model1B\", \"learnToolsVersion\": \"0.3.4\", \"failureMessage\": \"\", \"exceptionClass\": \"\", \"trace\": \"\"}}, \"*\")"
      ],
      "text/plain": [
       "<IPython.core.display.Javascript object>"
      ]
     },
     "metadata": {},
     "output_type": "display_data"
    },
    {
     "data": {
      "text/markdown": [
       "<span style=\"color:#33cc33\">Correct</span>"
      ],
      "text/plain": [
       "Correct"
      ]
     },
     "metadata": {},
     "output_type": "display_data"
    }
   ],
   "source": [
    "from sklearn.metrics import mean_absolute_error\n",
    "\n",
    "# Get predictions\n",
    "predictions_1 = my_model_1.predict(X_valid)\n",
    "\n",
    "# Check your answer\n",
    "step_1.b.check()"
   ]
  },
  {
   "cell_type": "code",
   "execution_count": 6,
   "id": "5b8a5115",
   "metadata": {
    "execution": {
     "iopub.execute_input": "2023-09-04T09:21:26.552694Z",
     "iopub.status.busy": "2023-09-04T09:21:26.552306Z",
     "iopub.status.idle": "2023-09-04T09:21:26.557062Z",
     "shell.execute_reply": "2023-09-04T09:21:26.555924Z"
    },
    "papermill": {
     "duration": 0.018546,
     "end_time": "2023-09-04T09:21:26.559583",
     "exception": false,
     "start_time": "2023-09-04T09:21:26.541037",
     "status": "completed"
    },
    "tags": []
   },
   "outputs": [],
   "source": [
    "# Lines below will give you a hint or solution code\n",
    "#step_1.b.hint()\n",
    "# step_1.b.solution()"
   ]
  },
  {
   "cell_type": "markdown",
   "id": "d18fd2b6",
   "metadata": {
    "papermill": {
     "duration": 0.009238,
     "end_time": "2023-09-04T09:21:26.578354",
     "exception": false,
     "start_time": "2023-09-04T09:21:26.569116",
     "status": "completed"
    },
    "tags": []
   },
   "source": [
    "### Part C\n",
    "\n",
    "Finally, use the `mean_absolute_error()` function to calculate the mean absolute error (MAE) corresponding to the predictions for the validation set.  Recall that the labels for the validation data are stored in `y_valid`."
   ]
  },
  {
   "cell_type": "code",
   "execution_count": 7,
   "id": "b0a94e4e",
   "metadata": {
    "execution": {
     "iopub.execute_input": "2023-09-04T09:21:26.599987Z",
     "iopub.status.busy": "2023-09-04T09:21:26.598830Z",
     "iopub.status.idle": "2023-09-04T09:21:26.610994Z",
     "shell.execute_reply": "2023-09-04T09:21:26.609993Z"
    },
    "papermill": {
     "duration": 0.025581,
     "end_time": "2023-09-04T09:21:26.613352",
     "exception": false,
     "start_time": "2023-09-04T09:21:26.587771",
     "status": "completed"
    },
    "tags": []
   },
   "outputs": [
    {
     "name": "stdout",
     "output_type": "stream",
     "text": [
      "Mean Absolute Error: 17662.736729452055\n"
     ]
    },
    {
     "data": {
      "application/javascript": [
       "parent.postMessage({\"jupyterEvent\": \"custom.exercise_interaction\", \"data\": {\"outcomeType\": 1, \"valueTowardsCompletion\": 0.5, \"interactionType\": 1, \"questionType\": 2, \"questionId\": \"1.3_Model1C\", \"learnToolsVersion\": \"0.3.4\", \"failureMessage\": \"\", \"exceptionClass\": \"\", \"trace\": \"\"}}, \"*\")"
      ],
      "text/plain": [
       "<IPython.core.display.Javascript object>"
      ]
     },
     "metadata": {},
     "output_type": "display_data"
    },
    {
     "data": {
      "text/markdown": [
       "<span style=\"color:#33cc33\">Correct</span>"
      ],
      "text/plain": [
       "Correct"
      ]
     },
     "metadata": {},
     "output_type": "display_data"
    }
   ],
   "source": [
    "# Calculate MAE\n",
    "mae_1 = mean_absolute_error(predictions_1, y_valid)\n",
    "\n",
    "# Uncomment to print MAE\n",
    "print(\"Mean Absolute Error:\" , mae_1)\n",
    "\n",
    "# Check your answer\n",
    "step_1.c.check()"
   ]
  },
  {
   "cell_type": "code",
   "execution_count": 8,
   "id": "65bf6e56",
   "metadata": {
    "execution": {
     "iopub.execute_input": "2023-09-04T09:21:26.634909Z",
     "iopub.status.busy": "2023-09-04T09:21:26.634505Z",
     "iopub.status.idle": "2023-09-04T09:21:26.639011Z",
     "shell.execute_reply": "2023-09-04T09:21:26.637960Z"
    },
    "papermill": {
     "duration": 0.018123,
     "end_time": "2023-09-04T09:21:26.641395",
     "exception": false,
     "start_time": "2023-09-04T09:21:26.623272",
     "status": "completed"
    },
    "tags": []
   },
   "outputs": [],
   "source": [
    "# Lines below will give you a hint or solution code\n",
    "#step_1.c.hint()\n",
    "# step_1.c.solution()"
   ]
  },
  {
   "cell_type": "markdown",
   "id": "a903686b",
   "metadata": {
    "papermill": {
     "duration": 0.009808,
     "end_time": "2023-09-04T09:21:26.661457",
     "exception": false,
     "start_time": "2023-09-04T09:21:26.651649",
     "status": "completed"
    },
    "tags": []
   },
   "source": [
    "# Step 2: Improve the model\n",
    "\n",
    "Now that you've trained a default model as baseline, it's time to tinker with the parameters, to see if you can get better performance!\n",
    "- Begin by setting `my_model_2` to an XGBoost model, using the [XGBRegressor](https://xgboost.readthedocs.io/en/latest/python/python_api.html#xgboost.XGBRegressor) class.  Use what you learned in the previous tutorial to figure out how to change the default parameters (like `n_estimators` and `learning_rate`) to get better results.\n",
    "- Then, fit the model to the training data in `X_train` and `y_train`.\n",
    "- Set `predictions_2` to the model's predictions for the validation data.  Recall that the validation features are stored in `X_valid`.\n",
    "- Finally, use the `mean_absolute_error()` function to calculate the mean absolute error (MAE) corresponding to the predictions on the validation set.  Recall that the labels for the validation data are stored in `y_valid`.\n",
    "\n",
    "In order for this step to be marked correct, your model in `my_model_2` must attain lower MAE than the model in `my_model_1`. "
   ]
  },
  {
   "cell_type": "code",
   "execution_count": 9,
   "id": "e901e778",
   "metadata": {
    "execution": {
     "iopub.execute_input": "2023-09-04T09:21:26.683014Z",
     "iopub.status.busy": "2023-09-04T09:21:26.682627Z",
     "iopub.status.idle": "2023-09-04T09:21:36.004987Z",
     "shell.execute_reply": "2023-09-04T09:21:35.999779Z"
    },
    "papermill": {
     "duration": 9.336874,
     "end_time": "2023-09-04T09:21:36.008255",
     "exception": false,
     "start_time": "2023-09-04T09:21:26.671381",
     "status": "completed"
    },
    "tags": []
   },
   "outputs": [
    {
     "name": "stdout",
     "output_type": "stream",
     "text": [
      "Mean Absolute Error: 16688.691513270547\n",
      "Mean Absolute Error: 16688.691513270547\n"
     ]
    },
    {
     "data": {
      "application/javascript": [
       "parent.postMessage({\"jupyterEvent\": \"custom.exercise_interaction\", \"data\": {\"outcomeType\": 1, \"valueTowardsCompletion\": 0.5, \"interactionType\": 1, \"questionType\": 2, \"questionId\": \"2_Model2\", \"learnToolsVersion\": \"0.3.4\", \"failureMessage\": \"\", \"exceptionClass\": \"\", \"trace\": \"\"}}, \"*\")"
      ],
      "text/plain": [
       "<IPython.core.display.Javascript object>"
      ]
     },
     "metadata": {},
     "output_type": "display_data"
    },
    {
     "data": {
      "text/markdown": [
       "<span style=\"color:#33cc33\">Correct</span>"
      ],
      "text/plain": [
       "Correct"
      ]
     },
     "metadata": {},
     "output_type": "display_data"
    }
   ],
   "source": [
    "# Define the model\n",
    "my_model_2 = XGBRegressor(n_estimators=1000, learning_rate=0.05)\n",
    "\n",
    "# Fit the model\n",
    "my_model_2.fit(X_train, y_train)\n",
    "\n",
    "# Get predictions\n",
    "predictions_2 = predictions_2 = my_model_2.predict(X_valid)\n",
    "\n",
    "# Calculate MAE\n",
    "mae_2 = mean_absolute_error(predictions_2, y_valid)\n",
    "print(\"Mean Absolute Error:\" , mae_2)\n",
    "\n",
    "# Uncomment to print MAE\n",
    "print(\"Mean Absolute Error:\" , mae_2)\n",
    "\n",
    "# Check your answer\n",
    "step_2.check()"
   ]
  },
  {
   "cell_type": "code",
   "execution_count": 10,
   "id": "ec9295bd",
   "metadata": {
    "execution": {
     "iopub.execute_input": "2023-09-04T09:21:36.032400Z",
     "iopub.status.busy": "2023-09-04T09:21:36.032005Z",
     "iopub.status.idle": "2023-09-04T09:21:36.037023Z",
     "shell.execute_reply": "2023-09-04T09:21:36.035899Z"
    },
    "papermill": {
     "duration": 0.019622,
     "end_time": "2023-09-04T09:21:36.039471",
     "exception": false,
     "start_time": "2023-09-04T09:21:36.019849",
     "status": "completed"
    },
    "tags": []
   },
   "outputs": [],
   "source": [
    "# Lines below will give you a hint or solution code\n",
    "#step_2.hint()\n",
    "# step_2.solution()"
   ]
  },
  {
   "cell_type": "markdown",
   "id": "c336f9ca",
   "metadata": {
    "papermill": {
     "duration": 0.010149,
     "end_time": "2023-09-04T09:21:36.060068",
     "exception": false,
     "start_time": "2023-09-04T09:21:36.049919",
     "status": "completed"
    },
    "tags": []
   },
   "source": [
    "# Step 3: Break the model\n",
    "\n",
    "In this step, you will create a model that performs worse than the original model in Step 1.  This will help you to develop your intuition for how to set parameters.  You might even find that you accidentally get better performance, which is ultimately a nice problem to have and a valuable learning experience!\n",
    "- Begin by setting `my_model_3` to an XGBoost model, using the [XGBRegressor](https://xgboost.readthedocs.io/en/latest/python/python_api.html#xgboost.XGBRegressor) class.  Use what you learned in the previous tutorial to figure out how to change the default parameters (like `n_estimators` and `learning_rate`) to design a model to get high MAE.\n",
    "- Then, fit the model to the training data in `X_train` and `y_train`.\n",
    "- Set `predictions_3` to the model's predictions for the validation data.  Recall that the validation features are stored in `X_valid`.\n",
    "- Finally, use the `mean_absolute_error()` function to calculate the mean absolute error (MAE) corresponding to the predictions on the validation set.  Recall that the labels for the validation data are stored in `y_valid`.\n",
    "\n",
    "In order for this step to be marked correct, your model in `my_model_3` must attain higher MAE than the model in `my_model_1`. "
   ]
  },
  {
   "cell_type": "code",
   "execution_count": 11,
   "id": "61cb478c",
   "metadata": {
    "execution": {
     "iopub.execute_input": "2023-09-04T09:21:36.083119Z",
     "iopub.status.busy": "2023-09-04T09:21:36.082669Z",
     "iopub.status.idle": "2023-09-04T09:21:36.180926Z",
     "shell.execute_reply": "2023-09-04T09:21:36.180004Z"
    },
    "papermill": {
     "duration": 0.113233,
     "end_time": "2023-09-04T09:21:36.183795",
     "exception": false,
     "start_time": "2023-09-04T09:21:36.070562",
     "status": "completed"
    },
    "tags": []
   },
   "outputs": [
    {
     "name": "stdout",
     "output_type": "stream",
     "text": [
      "Mean Absolute Error: 127895.0828807256\n"
     ]
    },
    {
     "data": {
      "application/javascript": [
       "parent.postMessage({\"jupyterEvent\": \"custom.exercise_interaction\", \"data\": {\"outcomeType\": 1, \"valueTowardsCompletion\": 0.5, \"interactionType\": 1, \"questionType\": 2, \"questionId\": \"3_Model3\", \"learnToolsVersion\": \"0.3.4\", \"failureMessage\": \"\", \"exceptionClass\": \"\", \"trace\": \"\"}}, \"*\")"
      ],
      "text/plain": [
       "<IPython.core.display.Javascript object>"
      ]
     },
     "metadata": {},
     "output_type": "display_data"
    },
    {
     "data": {
      "text/markdown": [
       "<span style=\"color:#33cc33\">Correct</span>"
      ],
      "text/plain": [
       "Correct"
      ]
     },
     "metadata": {},
     "output_type": "display_data"
    }
   ],
   "source": [
    "# Define the model\n",
    "my_model_3 = XGBRegressor(n_estimators=1)\n",
    "\n",
    "# Fit the model\n",
    "my_model_3.fit(X_train, y_train)\n",
    "\n",
    "# Get predictions\n",
    "predictions_3 = my_model_3.predict(X_valid)\n",
    "\n",
    "# Calculate MAE\n",
    "mae_3 = mean_absolute_error(predictions_3, y_valid)\n",
    "\n",
    "# Uncomment to print MAE\n",
    "print(\"Mean Absolute Error:\" , mae_3)\n",
    "\n",
    "# Check your answer\n",
    "step_3.check()"
   ]
  },
  {
   "cell_type": "code",
   "execution_count": 12,
   "id": "fd218d85",
   "metadata": {
    "execution": {
     "iopub.execute_input": "2023-09-04T09:21:36.208383Z",
     "iopub.status.busy": "2023-09-04T09:21:36.207994Z",
     "iopub.status.idle": "2023-09-04T09:21:36.212340Z",
     "shell.execute_reply": "2023-09-04T09:21:36.211249Z"
    },
    "papermill": {
     "duration": 0.018922,
     "end_time": "2023-09-04T09:21:36.214783",
     "exception": false,
     "start_time": "2023-09-04T09:21:36.195861",
     "status": "completed"
    },
    "tags": []
   },
   "outputs": [],
   "source": [
    "# Lines below will give you a hint or solution code\n",
    "#step_3.hint()\n",
    "# step_3.solution()"
   ]
  },
  {
   "cell_type": "markdown",
   "id": "4c3a0856",
   "metadata": {
    "papermill": {
     "duration": 0.011048,
     "end_time": "2023-09-04T09:21:36.237002",
     "exception": false,
     "start_time": "2023-09-04T09:21:36.225954",
     "status": "completed"
    },
    "tags": []
   },
   "source": [
    "# Keep going\n",
    "\n",
    "Continue to learn about **[data leakage](https://www.kaggle.com/alexisbcook/data-leakage)**.  This is an important issue for a data scientist to understand, and it has the potential to ruin your models in subtle and dangerous ways!"
   ]
  },
  {
   "cell_type": "markdown",
   "id": "70911739",
   "metadata": {
    "papermill": {
     "duration": 0.01046,
     "end_time": "2023-09-04T09:21:36.258181",
     "exception": false,
     "start_time": "2023-09-04T09:21:36.247721",
     "status": "completed"
    },
    "tags": []
   },
   "source": [
    "---\n",
    "\n",
    "\n",
    "\n",
    "\n",
    "*Have questions or comments? Visit the [course discussion forum](https://www.kaggle.com/learn/intermediate-machine-learning/discussion) to chat with other learners.*"
   ]
  }
 ],
 "kernelspec": {
  "display_name": "Python 3",
  "language": "python",
  "name": "python3"
 },
 "language_info": {
  "codemirror_mode": {
   "name": "ipython",
   "version": 3
  },
  "file_extension": ".py",
  "mimetype": "text/x-python",
  "name": "python",
  "nbconvert_exporter": "python",
  "pygments_lexer": "ipython3",
  "version": "3.6.4"
 },
 "metadata": {
  "kernelspec": {
   "display_name": "Python 3",
   "language": "python",
   "name": "python3"
  },
  "language_info": {
   "codemirror_mode": {
    "name": "ipython",
    "version": 3
   },
   "file_extension": ".py",
   "mimetype": "text/x-python",
   "name": "python",
   "nbconvert_exporter": "python",
   "pygments_lexer": "ipython3",
   "version": "3.10.12"
  },
  "papermill": {
   "default_parameters": {},
   "duration": 18.314181,
   "end_time": "2023-09-04T09:21:36.889760",
   "environment_variables": {},
   "exception": null,
   "input_path": "__notebook__.ipynb",
   "output_path": "__notebook__.ipynb",
   "parameters": {},
   "start_time": "2023-09-04T09:21:18.575579",
   "version": "2.4.0"
  }
 },
 "nbformat": 4,
 "nbformat_minor": 5
}
